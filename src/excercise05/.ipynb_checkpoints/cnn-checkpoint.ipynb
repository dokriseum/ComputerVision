{
 "cells": [
  {
   "cell_type": "code",
   "execution_count": null,
   "id": "909e3642-1cab-45f6-bc9b-4cb4b309815b",
   "metadata": {},
   "outputs": [],
   "source": [
    "\n",
    "#Nutzen Sie den Datensatz aus Aufgabe 4, um ein CNN zur Bildklassifikation zu trainieren.\n",
    "import os\n",
    "import matplotlib.pyplot as plt\n",
    "from auf4 import normalize_image\n",
    "\n",
    "# Datensatz-Pfad festlegen\n",
    "dataset_path = './cats_vs_dogs' \n",
    "\n",
    "# 예시 이미지 경로\n",
    "cat_image_path = os.path.join(dataset_path, 'cats', 'cat_100.jpg')\n",
    "dog_image_path = os.path.join(dataset_path, 'dogs', 'dog_100.jpg')  # Ensure you have this file or update accordingly\n",
    "\n",
    "# normalize_image 함수 사용\n",
    "cat_image = normalize_image(cat_image_path, 256, 256)\n",
    "dog_image = normalize_image(dog_image_path, 256, 256)\n",
    "\n",
    "# 이미지 표시\n",
    "plt.figure(figsize=(8, 4))\n",
    "\n",
    "# Cat image\n",
    "plt.subplot(1, 2, 1)\n",
    "plt.imshow(cat_image)\n",
    "plt.title('Cat Image')\n",
    "plt.axis('off')\n",
    "\n",
    "# Dog image\n",
    "plt.subplot(1, 2, 2)\n",
    "plt.imshow(dog_image)\n",
    "plt.title('Dog Image')\n",
    "plt.axis('off')\n",
    "\n",
    "plt.tight_layout()\n",
    "plt.show()\n",
    "\n",
    "# Teilen Sie den Bilddatensatz in Trainings- und Testdaten auf.\n",
    "\n",
    "# Wandeln Sie die Labels entweder in Integer oder One-Hot-Kodierung um.\n",
    "\n",
    "# Verwenden Sie den Custom Train-Loop aus Aufgabe 3 und passen Sie ihn für Bilder an.\n"
   ]
  },
  {
   "cell_type": "code",
   "execution_count": null,
   "id": "c976a4e8-e0a3-4957-b31a-21df09c8c111",
   "metadata": {},
   "outputs": [],
   "source": []
  },
  {
   "cell_type": "code",
   "execution_count": null,
   "id": "4ea858d1-237c-47f1-b5a4-d7195f678a3f",
   "metadata": {},
   "outputs": [],
   "source": []
  }
 ],
 "metadata": {
  "kernelspec": {
   "display_name": "Python 3 (ipykernel)",
   "language": "python",
   "name": "python3"
  },
  "language_info": {
   "codemirror_mode": {
    "name": "ipython",
    "version": 3
   },
   "file_extension": ".py",
   "mimetype": "text/x-python",
   "name": "python",
   "nbconvert_exporter": "python",
   "pygments_lexer": "ipython3",
   "version": "3.11.7"
  }
 },
 "nbformat": 4,
 "nbformat_minor": 5
}
